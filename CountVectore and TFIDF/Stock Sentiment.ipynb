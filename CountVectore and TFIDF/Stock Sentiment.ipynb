{
 "cells": [
  {
   "cell_type": "markdown",
   "id": "0ea1576e",
   "metadata": {},
   "source": [
    "# Stock sentimental ananlysis."
   ]
  },
  {
   "cell_type": "code",
   "execution_count": 1,
   "id": "6716d877",
   "metadata": {},
   "outputs": [],
   "source": [
    "import pandas as pd"
   ]
  },
  {
   "cell_type": "code",
   "execution_count": 2,
   "id": "2bdf2ed1",
   "metadata": {},
   "outputs": [],
   "source": [
    "df = pd.read_csv('Data.csv', encoding ='ISO-8859-1')"
   ]
  },
  {
   "cell_type": "code",
   "execution_count": 6,
   "id": "28e78e30",
   "metadata": {},
   "outputs": [],
   "source": [
    "train = df[df['Date'] < '20150101']\n",
    "test = df[df['Date'] > '20141231']"
   ]
  },
  {
   "cell_type": "code",
   "execution_count": 9,
   "id": "9c64b058",
   "metadata": {},
   "outputs": [],
   "source": [
    "data = train.iloc[:,2:27]\n",
    "data.replace(\"[^a-zA-Z]\",\" \",regex=True,inplace=True)"
   ]
  },
  {
   "cell_type": "code",
   "execution_count": 11,
   "id": "b886ad62",
   "metadata": {},
   "outputs": [],
   "source": [
    "list1 = [i for i in range(25)]\n",
    "newIndex = [str(i) for i in list1]\n",
    "data.columns = newIndex"
   ]
  },
  {
   "cell_type": "code",
   "execution_count": 14,
   "id": "9ffcf4ec",
   "metadata": {},
   "outputs": [],
   "source": [
    "for index in newIndex:\n",
    "    data[index] = data[index].str.lower()"
   ]
  },
  {
   "cell_type": "code",
   "execution_count": 15,
   "id": "03a514f3",
   "metadata": {},
   "outputs": [],
   "source": [
    "headlines =[]\n",
    "for i in range(0,len(data.index)):\n",
    "    headlines.append(' '.join(str(x) for x in data.iloc[i,0:25]))"
   ]
  },
  {
   "cell_type": "markdown",
   "id": "d5be8cf5",
   "metadata": {},
   "source": [
    "# CountVectorizer"
   ]
  },
  {
   "cell_type": "code",
   "execution_count": 17,
   "id": "b2ba6fec",
   "metadata": {},
   "outputs": [],
   "source": [
    "from sklearn.feature_extraction.text import CountVectorizer # text 2 vectors and also helps to create bag of words\n",
    "from sklearn.ensemble import RandomForestClassifier"
   ]
  },
  {
   "cell_type": "code",
   "execution_count": 20,
   "id": "6b310049",
   "metadata": {},
   "outputs": [],
   "source": [
    "#impelementing bag of words\n",
    "countvector = CountVectorizer(ngram_range=(2,2))\n",
    "traindataset = countvector.fit_transform(headlines)"
   ]
  },
  {
   "cell_type": "code",
   "execution_count": 21,
   "id": "0cad81a1",
   "metadata": {},
   "outputs": [
    {
     "data": {
      "text/plain": [
       "RandomForestClassifier(criterion='entropy', n_estimators=200)"
      ]
     },
     "execution_count": 21,
     "metadata": {},
     "output_type": "execute_result"
    }
   ],
   "source": [
    "rfc = RandomForestClassifier(n_estimators=200,criterion='entropy')\n",
    "rfc.fit(traindataset,train['Label'])"
   ]
  },
  {
   "cell_type": "code",
   "execution_count": 23,
   "id": "7ab8f924",
   "metadata": {},
   "outputs": [],
   "source": [
    "test_transform = []\n",
    "for row in range(0,len(test.index)):\n",
    "    test_transform.append(' '.join(str(x) for x in data.iloc[i,0:25]))\n",
    "test_dataset = countvector.transform(test_transform)\n",
    "predicactions = rfc.predict(test_dataset)"
   ]
  },
  {
   "cell_type": "markdown",
   "id": "1def8126",
   "metadata": {},
   "source": [
    "## Accuracy"
   ]
  },
  {
   "cell_type": "code",
   "execution_count": 26,
   "id": "641bc0e6",
   "metadata": {},
   "outputs": [
    {
     "name": "stdout",
     "output_type": "stream",
     "text": [
      "[[186   0]\n",
      " [192   0]] \n",
      " 0.49206349206349204 \n",
      "               precision    recall  f1-score   support\n",
      "\n",
      "           0       0.49      1.00      0.66       186\n",
      "           1       0.00      0.00      0.00       192\n",
      "\n",
      "    accuracy                           0.49       378\n",
      "   macro avg       0.25      0.50      0.33       378\n",
      "weighted avg       0.24      0.49      0.32       378\n",
      "\n"
     ]
    },
    {
     "name": "stderr",
     "output_type": "stream",
     "text": [
      "/Users/harikrishnareddy/opt/anaconda3/lib/python3.9/site-packages/sklearn/metrics/_classification.py:1318: UndefinedMetricWarning: Precision and F-score are ill-defined and being set to 0.0 in labels with no predicted samples. Use `zero_division` parameter to control this behavior.\n",
      "  _warn_prf(average, modifier, msg_start, len(result))\n",
      "/Users/harikrishnareddy/opt/anaconda3/lib/python3.9/site-packages/sklearn/metrics/_classification.py:1318: UndefinedMetricWarning: Precision and F-score are ill-defined and being set to 0.0 in labels with no predicted samples. Use `zero_division` parameter to control this behavior.\n",
      "  _warn_prf(average, modifier, msg_start, len(result))\n",
      "/Users/harikrishnareddy/opt/anaconda3/lib/python3.9/site-packages/sklearn/metrics/_classification.py:1318: UndefinedMetricWarning: Precision and F-score are ill-defined and being set to 0.0 in labels with no predicted samples. Use `zero_division` parameter to control this behavior.\n",
      "  _warn_prf(average, modifier, msg_start, len(result))\n"
     ]
    }
   ],
   "source": [
    "from sklearn.metrics import accuracy_score,classification_report,confusion_matrix\n",
    "\n",
    "matrix = confusion_matrix(test['Label'],predicactions)\n",
    "score = accuracy_score(test['Label'],predicactions)\n",
    "report = classification_report(test['Label'],predicactions)\n",
    "print(matrix,\"\\n\",score,\"\\n\",report)"
   ]
  },
  {
   "cell_type": "markdown",
   "id": "d88d7adc",
   "metadata": {},
   "source": [
    "# TF-IDF"
   ]
  },
  {
   "cell_type": "code",
   "execution_count": 27,
   "id": "e84433f8",
   "metadata": {},
   "outputs": [],
   "source": [
    "from sklearn.feature_extraction.text import TfidfVectorizer\n",
    "from sklearn.ensemble import RandomForestClassifier"
   ]
  },
  {
   "cell_type": "code",
   "execution_count": 28,
   "id": "af0bbfa0",
   "metadata": {},
   "outputs": [],
   "source": [
    "#impelementing bag of words\n",
    "tfidf = TfidfVectorizer(ngram_range=(2,2))\n",
    "traindataset = tfidf.fit_transform(headlines)"
   ]
  },
  {
   "cell_type": "code",
   "execution_count": 29,
   "id": "44171c37",
   "metadata": {},
   "outputs": [
    {
     "data": {
      "text/plain": [
       "RandomForestClassifier(criterion='entropy', n_estimators=200)"
      ]
     },
     "execution_count": 29,
     "metadata": {},
     "output_type": "execute_result"
    }
   ],
   "source": [
    "rfc = RandomForestClassifier(n_estimators=200,criterion='entropy')\n",
    "rfc.fit(traindataset,train['Label'])"
   ]
  },
  {
   "cell_type": "code",
   "execution_count": 30,
   "id": "60129378",
   "metadata": {},
   "outputs": [],
   "source": [
    "test_transform = []\n",
    "for row in range(0,len(test.index)):\n",
    "    test_transform.append(' '.join(str(x) for x in data.iloc[i,0:25]))\n",
    "test_dataset = tfidf.transform(test_transform)\n",
    "predicactions = rfc.predict(test_dataset)"
   ]
  },
  {
   "cell_type": "code",
   "execution_count": 31,
   "id": "5247745f",
   "metadata": {},
   "outputs": [
    {
     "name": "stdout",
     "output_type": "stream",
     "text": [
      "[[186   0]\n",
      " [192   0]] \n",
      " 0.49206349206349204 \n",
      "               precision    recall  f1-score   support\n",
      "\n",
      "           0       0.49      1.00      0.66       186\n",
      "           1       0.00      0.00      0.00       192\n",
      "\n",
      "    accuracy                           0.49       378\n",
      "   macro avg       0.25      0.50      0.33       378\n",
      "weighted avg       0.24      0.49      0.32       378\n",
      "\n"
     ]
    },
    {
     "name": "stderr",
     "output_type": "stream",
     "text": [
      "/Users/harikrishnareddy/opt/anaconda3/lib/python3.9/site-packages/sklearn/metrics/_classification.py:1318: UndefinedMetricWarning: Precision and F-score are ill-defined and being set to 0.0 in labels with no predicted samples. Use `zero_division` parameter to control this behavior.\n",
      "  _warn_prf(average, modifier, msg_start, len(result))\n",
      "/Users/harikrishnareddy/opt/anaconda3/lib/python3.9/site-packages/sklearn/metrics/_classification.py:1318: UndefinedMetricWarning: Precision and F-score are ill-defined and being set to 0.0 in labels with no predicted samples. Use `zero_division` parameter to control this behavior.\n",
      "  _warn_prf(average, modifier, msg_start, len(result))\n",
      "/Users/harikrishnareddy/opt/anaconda3/lib/python3.9/site-packages/sklearn/metrics/_classification.py:1318: UndefinedMetricWarning: Precision and F-score are ill-defined and being set to 0.0 in labels with no predicted samples. Use `zero_division` parameter to control this behavior.\n",
      "  _warn_prf(average, modifier, msg_start, len(result))\n"
     ]
    }
   ],
   "source": [
    "matrix = confusion_matrix(test['Label'],predicactions)\n",
    "score = accuracy_score(test['Label'],predicactions)\n",
    "report = classification_report(test['Label'],predicactions)\n",
    "print(matrix,\"\\n\",score,\"\\n\",report)"
   ]
  },
  {
   "cell_type": "code",
   "execution_count": null,
   "id": "35e21237",
   "metadata": {},
   "outputs": [],
   "source": []
  }
 ],
 "metadata": {
  "kernelspec": {
   "display_name": "Python 3 (ipykernel)",
   "language": "python",
   "name": "python3"
  },
  "language_info": {
   "codemirror_mode": {
    "name": "ipython",
    "version": 3
   },
   "file_extension": ".py",
   "mimetype": "text/x-python",
   "name": "python",
   "nbconvert_exporter": "python",
   "pygments_lexer": "ipython3",
   "version": "3.9.12"
  }
 },
 "nbformat": 4,
 "nbformat_minor": 5
}
